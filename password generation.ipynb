{
 "cells": [
  {
   "cell_type": "markdown",
   "id": "fefaf438",
   "metadata": {},
   "source": [
    "###### Password generator"
   ]
  },
  {
   "cell_type": "code",
   "execution_count": 1,
   "id": "082d8c40",
   "metadata": {},
   "outputs": [
    {
     "name": "stdout",
     "output_type": "stream",
     "text": [
      "Enter a user password length:- 6\n",
      " User password is\n",
      "IUkaW9\n"
     ]
    }
   ],
   "source": [
    "import string # import the string in this program\n",
    "import random\n",
    "s1= string.ascii_lowercase # lower case ascii value provided\n",
    "s2= string.ascii_uppercase # Upper case ascii value provided\n",
    "s3= string.digits # it provide the digit value in string\n",
    "s4=string.punctuation\n",
    "pass_len=int(input(\"Enter a user password length:- \"))\n",
    "s=[] # store the value in empty list\n",
    "s.extend(list(s1))\n",
    "s.extend(list(s2))\n",
    "s.extend(list(s3))\n",
    "s.extend(list(s4))\n",
    "random.shuffle(s) # suffle the all the ascii value in list\n",
    "print(\" User password is\")\n",
    "#print(\"\".join(s[0:pass_len])) # Concatenate any number of string\n",
    "print(\"\".join(random.sample(s, pass_len)))\n"
   ]
  },
  {
   "cell_type": "code",
   "execution_count": null,
   "id": "0d153519",
   "metadata": {},
   "outputs": [],
   "source": []
  }
 ],
 "metadata": {
  "kernelspec": {
   "display_name": "Python 3 (ipykernel)",
   "language": "python",
   "name": "python3"
  },
  "language_info": {
   "codemirror_mode": {
    "name": "ipython",
    "version": 3
   },
   "file_extension": ".py",
   "mimetype": "text/x-python",
   "name": "python",
   "nbconvert_exporter": "python",
   "pygments_lexer": "ipython3",
   "version": "3.9.7"
  }
 },
 "nbformat": 4,
 "nbformat_minor": 5
}
